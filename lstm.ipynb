{
 "cells": [
  {
   "cell_type": "code",
   "execution_count": 46,
   "id": "f8c38fa0",
   "metadata": {},
   "outputs": [],
   "source": [
    "import numpy as np\n",
    "import matplotlib.pyplot as plt\n",
    "import pandas as pd"
   ]
  },
  {
   "cell_type": "code",
   "execution_count": 47,
   "id": "126b8a6c",
   "metadata": {},
   "outputs": [],
   "source": [
    "apple_training_complete = pd.read_csv(r'AAPL_train.csv')\n"
   ]
  },
  {
   "cell_type": "code",
   "execution_count": 48,
   "id": "051e1b01",
   "metadata": {},
   "outputs": [],
   "source": [
    "apple_training_processed = apple_training_complete.iloc[:, 1:2].values\n"
   ]
  },
  {
   "cell_type": "code",
   "execution_count": 49,
   "id": "e6c3d830",
   "metadata": {},
   "outputs": [],
   "source": [
    "from sklearn.preprocessing import MinMaxScaler\n",
    "scaler = MinMaxScaler(feature_range = (0, 1))\n",
    "\n",
    "apple_training_scaled = scaler.fit_transform(apple_training_processed)\n"
   ]
  },
  {
   "cell_type": "code",
   "execution_count": 50,
   "id": "cbe86614",
   "metadata": {},
   "outputs": [],
   "source": [
    "features_set = []\n",
    "labels = []\n",
    "for i in range(60, 1258):\n",
    "    features_set.append(apple_training_scaled[i-60:i, 0])\n",
    "    labels.append(apple_training_scaled[i, 0])\n"
   ]
  },
  {
   "cell_type": "code",
   "execution_count": 51,
   "id": "232de508",
   "metadata": {},
   "outputs": [
    {
     "name": "stdout",
     "output_type": "stream",
     "text": [
      "            Date       High        Low       Open      Close       Volume  \\\n",
      "0     2012-01-03  14.732143  14.607143  14.621429  14.686786  302220800.0   \n",
      "1     2012-01-04  14.810000  14.617143  14.642857  14.765714  260022000.0   \n",
      "2     2012-01-05  14.948214  14.738214  14.819643  14.929643  271269600.0   \n",
      "3     2012-01-06  15.098214  14.972143  14.991786  15.085714  318292800.0   \n",
      "4     2012-01-09  15.276786  15.048214  15.196429  15.061786  394024400.0   \n",
      "...          ...        ...        ...        ...        ...          ...   \n",
      "1253  2016-12-23  29.129999  28.897499  28.897499  29.129999   56998000.0   \n",
      "1254  2016-12-27  29.450001  29.122499  29.129999  29.315001   73187600.0   \n",
      "1255  2016-12-28  29.504999  29.049999  29.379999  29.190001   83623600.0   \n",
      "1256  2016-12-29  29.277500  29.100000  29.112499  29.182501   60158000.0   \n",
      "1257  2016-12-30  29.299999  28.857500  29.162500  28.955000  122345200.0   \n",
      "\n",
      "      Adj Close  \n",
      "0     12.557466  \n",
      "1     12.624948  \n",
      "2     12.765115  \n",
      "3     12.898559  \n",
      "4     12.878097  \n",
      "...         ...  \n",
      "1253  27.344475  \n",
      "1254  27.518133  \n",
      "1255  27.400795  \n",
      "1256  27.393757  \n",
      "1257  27.180195  \n",
      "\n",
      "[1258 rows x 7 columns]\n"
     ]
    }
   ],
   "source": [
    "print(apple_training_complete)"
   ]
  },
  {
   "cell_type": "code",
   "execution_count": 52,
   "id": "e543908d",
   "metadata": {},
   "outputs": [
    {
     "name": "stdout",
     "output_type": "stream",
     "text": [
      "[[14.7321434 ]\n",
      " [14.81000042]\n",
      " [14.94821358]\n",
      " ...\n",
      " [29.50499916]\n",
      " [29.27750015]\n",
      " [29.29999924]]\n"
     ]
    }
   ],
   "source": [
    "print(apple_training_processed)"
   ]
  },
  {
   "cell_type": "code",
   "execution_count": 53,
   "id": "93715e20",
   "metadata": {},
   "outputs": [],
   "source": [
    "features_set, labels = np.array(features_set), np.array(labels)\n"
   ]
  },
  {
   "cell_type": "code",
   "execution_count": 54,
   "id": "8e8cb811",
   "metadata": {},
   "outputs": [],
   "source": [
    "features_set = np.reshape(features_set, (features_set.shape[0], features_set.shape[1], 1))\n"
   ]
  },
  {
   "cell_type": "code",
   "execution_count": 55,
   "id": "86d90765",
   "metadata": {},
   "outputs": [],
   "source": [
    "from keras.models import Sequential\n",
    "from keras.layers import Dense\n",
    "from keras.layers import LSTM\n",
    "from keras.layers import Dropout"
   ]
  },
  {
   "cell_type": "code",
   "execution_count": 56,
   "id": "94683379",
   "metadata": {},
   "outputs": [],
   "source": [
    "model = Sequential()"
   ]
  },
  {
   "cell_type": "code",
   "execution_count": 57,
   "id": "95a9aa61",
   "metadata": {},
   "outputs": [],
   "source": [
    "model.add(LSTM(units=50, return_sequences=True, input_shape=(features_set.shape[1], 1)))\n"
   ]
  },
  {
   "cell_type": "code",
   "execution_count": 58,
   "id": "d95890c8",
   "metadata": {},
   "outputs": [],
   "source": [
    "model.add(Dropout(0.2))\n"
   ]
  },
  {
   "cell_type": "code",
   "execution_count": 59,
   "id": "1346a4bb",
   "metadata": {},
   "outputs": [],
   "source": [
    "model.add(LSTM(units=50, return_sequences=True))\n",
    "model.add(Dropout(0.2))\n",
    "\n",
    "model.add(LSTM(units=50, return_sequences=True))\n",
    "model.add(Dropout(0.2))\n",
    "\n",
    "model.add(LSTM(units=50))\n",
    "model.add(Dropout(0.2))\n"
   ]
  },
  {
   "cell_type": "code",
   "execution_count": 60,
   "id": "1b94d78b",
   "metadata": {},
   "outputs": [],
   "source": [
    "model.add(Dense(units = 1))\n"
   ]
  },
  {
   "cell_type": "code",
   "execution_count": 61,
   "id": "9822e6be",
   "metadata": {},
   "outputs": [],
   "source": [
    "model.compile(optimizer = 'adam', loss = 'mean_squared_error')\n"
   ]
  },
  {
   "cell_type": "code",
   "execution_count": 62,
   "id": "0d3964d6",
   "metadata": {},
   "outputs": [
    {
     "name": "stdout",
     "output_type": "stream",
     "text": [
      "Epoch 1/100\n",
      "38/38 [==============================] - 12s 81ms/step - loss: 0.0399\n",
      "Epoch 2/100\n",
      "38/38 [==============================] - 3s 77ms/step - loss: 0.0085\n",
      "Epoch 3/100\n",
      "38/38 [==============================] - 3s 85ms/step - loss: 0.0076\n",
      "Epoch 4/100\n",
      "38/38 [==============================] - 3s 83ms/step - loss: 0.0066\n",
      "Epoch 5/100\n",
      "38/38 [==============================] - 3s 86ms/step - loss: 0.0064\n",
      "Epoch 6/100\n",
      "38/38 [==============================] - 3s 79ms/step - loss: 0.0059\n",
      "Epoch 7/100\n",
      "38/38 [==============================] - 3s 80ms/step - loss: 0.0056\n",
      "Epoch 8/100\n",
      "38/38 [==============================] - 3s 90ms/step - loss: 0.0053\n",
      "Epoch 9/100\n",
      "38/38 [==============================] - 3s 84ms/step - loss: 0.0064\n",
      "Epoch 10/100\n",
      "38/38 [==============================] - 3s 85ms/step - loss: 0.0054\n",
      "Epoch 11/100\n",
      "38/38 [==============================] - 3s 74ms/step - loss: 0.0054\n",
      "Epoch 12/100\n",
      "38/38 [==============================] - 3s 85ms/step - loss: 0.0046\n",
      "Epoch 13/100\n",
      "38/38 [==============================] - 3s 85ms/step - loss: 0.0047\n",
      "Epoch 14/100\n",
      "38/38 [==============================] - 3s 72ms/step - loss: 0.0043\n",
      "Epoch 15/100\n",
      "38/38 [==============================] - 3s 74ms/step - loss: 0.0041\n",
      "Epoch 16/100\n",
      "38/38 [==============================] - 3s 86ms/step - loss: 0.0041\n",
      "Epoch 17/100\n",
      "38/38 [==============================] - 3s 86ms/step - loss: 0.0040\n",
      "Epoch 18/100\n",
      "38/38 [==============================] - 3s 88ms/step - loss: 0.0042\n",
      "Epoch 19/100\n",
      "38/38 [==============================] - 3s 90ms/step - loss: 0.0039\n",
      "Epoch 20/100\n",
      "38/38 [==============================] - 3s 79ms/step - loss: 0.0037\n",
      "Epoch 21/100\n",
      "38/38 [==============================] - 3s 83ms/step - loss: 0.0037\n",
      "Epoch 22/100\n",
      "38/38 [==============================] - 3s 85ms/step - loss: 0.0036\n",
      "Epoch 23/100\n",
      "38/38 [==============================] - 3s 89ms/step - loss: 0.0034\n",
      "Epoch 24/100\n",
      "38/38 [==============================] - 3s 92ms/step - loss: 0.0034\n",
      "Epoch 25/100\n",
      "38/38 [==============================] - 3s 73ms/step - loss: 0.0039\n",
      "Epoch 26/100\n",
      "38/38 [==============================] - 3s 85ms/step - loss: 0.0033\n",
      "Epoch 27/100\n",
      "38/38 [==============================] - 3s 87ms/step - loss: 0.0037\n",
      "Epoch 28/100\n",
      "38/38 [==============================] - 3s 87ms/step - loss: 0.0036\n",
      "Epoch 29/100\n",
      "38/38 [==============================] - 3s 88ms/step - loss: 0.0041\n",
      "Epoch 30/100\n",
      "38/38 [==============================] - 3s 83ms/step - loss: 0.0036\n",
      "Epoch 31/100\n",
      "38/38 [==============================] - 3s 80ms/step - loss: 0.0031\n",
      "Epoch 32/100\n",
      "38/38 [==============================] - 3s 87ms/step - loss: 0.0030\n",
      "Epoch 33/100\n",
      "38/38 [==============================] - 3s 89ms/step - loss: 0.0032\n",
      "Epoch 34/100\n",
      "38/38 [==============================] - 3s 90ms/step - loss: 0.0029\n",
      "Epoch 35/100\n",
      "38/38 [==============================] - 3s 83ms/step - loss: 0.0034\n",
      "Epoch 36/100\n",
      "38/38 [==============================] - 3s 75ms/step - loss: 0.0029\n",
      "Epoch 37/100\n",
      "38/38 [==============================] - 3s 86ms/step - loss: 0.0031\n",
      "Epoch 38/100\n",
      "38/38 [==============================] - 3s 86ms/step - loss: 0.0029\n",
      "Epoch 39/100\n",
      "38/38 [==============================] - 3s 85ms/step - loss: 0.0027\n",
      "Epoch 40/100\n",
      "38/38 [==============================] - 3s 79ms/step - loss: 0.0027\n",
      "Epoch 41/100\n",
      "38/38 [==============================] - 3s 78ms/step - loss: 0.0028\n",
      "Epoch 42/100\n",
      "38/38 [==============================] - 3s 73ms/step - loss: 0.0026\n",
      "Epoch 43/100\n",
      "38/38 [==============================] - 3s 73ms/step - loss: 0.0026\n",
      "Epoch 44/100\n",
      "38/38 [==============================] - 3s 74ms/step - loss: 0.0026\n",
      "Epoch 45/100\n",
      "38/38 [==============================] - 3s 74ms/step - loss: 0.0027\n",
      "Epoch 46/100\n",
      "38/38 [==============================] - 3s 74ms/step - loss: 0.0027\n",
      "Epoch 47/100\n",
      "38/38 [==============================] - 3s 76ms/step - loss: 0.0025\n",
      "Epoch 48/100\n",
      "38/38 [==============================] - 3s 73ms/step - loss: 0.0022\n",
      "Epoch 49/100\n",
      "38/38 [==============================] - 3s 79ms/step - loss: 0.0024\n",
      "Epoch 50/100\n",
      "38/38 [==============================] - 3s 83ms/step - loss: 0.0024\n",
      "Epoch 51/100\n",
      "38/38 [==============================] - 3s 74ms/step - loss: 0.0022\n",
      "Epoch 52/100\n",
      "38/38 [==============================] - 4s 99ms/step - loss: 0.0022\n",
      "Epoch 53/100\n",
      "38/38 [==============================] - 5s 121ms/step - loss: 0.0024\n",
      "Epoch 54/100\n",
      "38/38 [==============================] - 5s 141ms/step - loss: 0.0022\n",
      "Epoch 55/100\n",
      "38/38 [==============================] - 5s 138ms/step - loss: 0.0023\n",
      "Epoch 56/100\n",
      "38/38 [==============================] - 5s 135ms/step - loss: 0.0023\n",
      "Epoch 57/100\n",
      "38/38 [==============================] - 4s 109ms/step - loss: 0.0020\n",
      "Epoch 58/100\n",
      "38/38 [==============================] - 4s 101ms/step - loss: 0.0022\n",
      "Epoch 59/100\n",
      "38/38 [==============================] - 3s 81ms/step - loss: 0.0026\n",
      "Epoch 60/100\n",
      "38/38 [==============================] - 4s 94ms/step - loss: 0.0021\n",
      "Epoch 61/100\n",
      "38/38 [==============================] - 4s 95ms/step - loss: 0.0021\n",
      "Epoch 62/100\n",
      "38/38 [==============================] - 4s 93ms/step - loss: 0.0023\n",
      "Epoch 63/100\n",
      "38/38 [==============================] - 4s 97ms/step - loss: 0.0021\n",
      "Epoch 64/100\n",
      "38/38 [==============================] - 4s 100ms/step - loss: 0.0021\n",
      "Epoch 65/100\n",
      "38/38 [==============================] - 4s 96ms/step - loss: 0.0019\n",
      "Epoch 66/100\n",
      "38/38 [==============================] - 4s 113ms/step - loss: 0.0019\n",
      "Epoch 67/100\n",
      "38/38 [==============================] - 5s 120ms/step - loss: 0.0019\n",
      "Epoch 68/100\n",
      "38/38 [==============================] - 4s 109ms/step - loss: 0.0018\n",
      "Epoch 69/100\n",
      "38/38 [==============================] - 4s 94ms/step - loss: 0.0020\n",
      "Epoch 70/100\n",
      "38/38 [==============================] - 5s 123ms/step - loss: 0.0022\n",
      "Epoch 71/100\n",
      "38/38 [==============================] - 4s 94ms/step - loss: 0.0018\n",
      "Epoch 72/100\n",
      "38/38 [==============================] - 4s 96ms/step - loss: 0.0020\n",
      "Epoch 73/100\n",
      "38/38 [==============================] - 4s 112ms/step - loss: 0.0018\n",
      "Epoch 74/100\n",
      "38/38 [==============================] - 4s 103ms/step - loss: 0.0018\n",
      "Epoch 75/100\n",
      "38/38 [==============================] - 3s 91ms/step - loss: 0.0017\n",
      "Epoch 76/100\n",
      "38/38 [==============================] - 3s 83ms/step - loss: 0.0021\n",
      "Epoch 77/100\n",
      "38/38 [==============================] - 2s 61ms/step - loss: 0.0022\n",
      "Epoch 78/100\n",
      "38/38 [==============================] - 2s 60ms/step - loss: 0.0019\n",
      "Epoch 79/100\n",
      "38/38 [==============================] - 2s 60ms/step - loss: 0.0016\n",
      "Epoch 80/100\n",
      "38/38 [==============================] - 2s 60ms/step - loss: 0.0018\n",
      "Epoch 81/100\n",
      "38/38 [==============================] - 2s 60ms/step - loss: 0.0018\n",
      "Epoch 82/100\n",
      "38/38 [==============================] - 2s 60ms/step - loss: 0.0017\n",
      "Epoch 83/100\n",
      "38/38 [==============================] - 2s 60ms/step - loss: 0.0017\n",
      "Epoch 84/100\n",
      "38/38 [==============================] - 2s 59ms/step - loss: 0.0016\n",
      "Epoch 85/100\n",
      "38/38 [==============================] - 2s 60ms/step - loss: 0.0018\n",
      "Epoch 86/100\n",
      "38/38 [==============================] - 2s 60ms/step - loss: 0.0020\n",
      "Epoch 87/100\n",
      "38/38 [==============================] - 2s 59ms/step - loss: 0.0018\n",
      "Epoch 88/100\n",
      "38/38 [==============================] - 2s 59ms/step - loss: 0.0018\n",
      "Epoch 89/100\n",
      "38/38 [==============================] - 2s 59ms/step - loss: 0.0017\n",
      "Epoch 90/100\n",
      "38/38 [==============================] - 2s 60ms/step - loss: 0.0015\n",
      "Epoch 91/100\n",
      "38/38 [==============================] - 2s 59ms/step - loss: 0.0015\n",
      "Epoch 92/100\n",
      "38/38 [==============================] - 2s 59ms/step - loss: 0.0015\n",
      "Epoch 93/100\n",
      "38/38 [==============================] - 2s 59ms/step - loss: 0.0016\n",
      "Epoch 94/100\n",
      "38/38 [==============================] - 2s 59ms/step - loss: 0.0015\n",
      "Epoch 95/100\n",
      "38/38 [==============================] - 2s 60ms/step - loss: 0.0015\n",
      "Epoch 96/100\n",
      "38/38 [==============================] - 2s 59ms/step - loss: 0.0016\n",
      "Epoch 97/100\n",
      "38/38 [==============================] - 2s 59ms/step - loss: 0.0017\n",
      "Epoch 98/100\n",
      "38/38 [==============================] - 2s 59ms/step - loss: 0.0016\n",
      "Epoch 99/100\n",
      "38/38 [==============================] - 2s 62ms/step - loss: 0.0014\n",
      "Epoch 100/100\n"
     ]
    },
    {
     "name": "stdout",
     "output_type": "stream",
     "text": [
      "38/38 [==============================] - 2s 59ms/step - loss: 0.0015\n"
     ]
    },
    {
     "data": {
      "text/plain": [
       "<keras.callbacks.History at 0x1cf55f396a0>"
      ]
     },
     "execution_count": 62,
     "metadata": {},
     "output_type": "execute_result"
    }
   ],
   "source": [
    "model.fit(features_set, labels, epochs = 100, batch_size = 32)\n"
   ]
  },
  {
   "cell_type": "code",
   "execution_count": 77,
   "id": "42a77eea",
   "metadata": {},
   "outputs": [],
   "source": [
    "apple_testing_complete = pd.read_csv(r'aapl_test.csv')\n",
    "apple_testing_processed = apple_testing_complete.iloc[:, 1:2].values\n"
   ]
  },
  {
   "cell_type": "code",
   "execution_count": 78,
   "id": "c0f6d90d",
   "metadata": {},
   "outputs": [],
   "source": [
    "apple_total = pd.concat((apple_training_complete['Open'], apple_testing_complete['Open']), axis=0)\n"
   ]
  },
  {
   "cell_type": "code",
   "execution_count": 79,
   "id": "0888ddfc",
   "metadata": {},
   "outputs": [],
   "source": [
    "test_inputs = apple_total[len(apple_total) - len(apple_testing_complete) - 60:].values\n"
   ]
  },
  {
   "cell_type": "code",
   "execution_count": 80,
   "id": "2cbfdbc6",
   "metadata": {},
   "outputs": [],
   "source": [
    "test_inputs = test_inputs.reshape(-1,1)\n",
    "test_inputs = scaler.transform(test_inputs)\n"
   ]
  },
  {
   "cell_type": "code",
   "execution_count": 81,
   "id": "7a397806",
   "metadata": {},
   "outputs": [],
   "source": [
    "test_features = []\n",
    "for i in range(60, 80):\n",
    "    test_features.append(test_inputs[i-60:i, 0])\n"
   ]
  },
  {
   "cell_type": "code",
   "execution_count": 82,
   "id": "91e6957d",
   "metadata": {},
   "outputs": [],
   "source": [
    "test_features = np.array(test_features)\n",
    "test_features = np.reshape(test_features, (test_features.shape[0], test_features.shape[1], 1))\n"
   ]
  },
  {
   "cell_type": "code",
   "execution_count": 83,
   "id": "c01741f0",
   "metadata": {},
   "outputs": [
    {
     "name": "stdout",
     "output_type": "stream",
     "text": [
      "1/1 [==============================] - 0s 32ms/step\n"
     ]
    }
   ],
   "source": [
    "predictions = model.predict(test_features)"
   ]
  },
  {
   "cell_type": "code",
   "execution_count": 84,
   "id": "181cee9c",
   "metadata": {},
   "outputs": [],
   "source": [
    "predictions = scaler.inverse_transform(predictions)\n",
    "\n"
   ]
  },
  {
   "cell_type": "code",
   "execution_count": 85,
   "id": "8a754d5c",
   "metadata": {},
   "outputs": [
    {
     "data": {
      "image/png": "[encoded data removed]",
      "text/plain": [
       "<Figure size 720x432 with 1 Axes>"
      ]
     },
     "metadata": {
      "needs_background": "light"
     },
     "output_type": "display_data"
    }
   ],
   "source": [
    "plt.figure(figsize=(10,6))\n",
    "plt.plot(apple_testing_processed, color='blue', label='Actual Apple Stock Price')\n",
    "plt.plot(predictions , color='red', label='Predicted Apple Stock Price')\n",
    "plt.title('Apple Stock Price Prediction')\n",
    "plt.xlabel('Date')\n",
    "plt.ylabel('Apple Stock Price')\n",
    "plt.legend()\n",
    "plt.show()\n"
   ]
  },
  {
   "cell_type": "code",
   "execution_count": 88,
   "id": "89e3afb8",
   "metadata": {},
   "outputs": [
    {
     "name": "stdout",
     "output_type": "stream",
     "text": [
      "20\n"
     ]
    }
   ],
   "source": [
    "print(len(predictions))"
   ]
  },
  {
   "cell_type": "code",
   "execution_count": 89,
   "id": "8daa01f5",
   "metadata": {},
   "outputs": [
    {
     "name": "stdout",
     "output_type": "stream",
     "text": [
      "20\n"
     ]
    }
   ],
   "source": [
    "print(len(apple_testing_processed))"
   ]
  },
  {
   "cell_type": "code",
   "execution_count": null,
   "id": "aa15e618",
   "metadata": {},
   "outputs": [],
   "source": []
  }
 ],
 "metadata": {
  "kernelspec": {
   "display_name": "Python 3",
   "language": "python",
   "name": "python3"
  },
  "language_info": {
   "codemirror_mode": {
    "name": "ipython",
    "version": 3
   },
   "file_extension": ".py",
   "mimetype": "text/x-python",
   "name": "python",
   "nbconvert_exporter": "python",
   "pygments_lexer": "ipython3",
   "version": "3.8.8"
  }
 },
 "nbformat": 4,
 "nbformat_minor": 5
}
